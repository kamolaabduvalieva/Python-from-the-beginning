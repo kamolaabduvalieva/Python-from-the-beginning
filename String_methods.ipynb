{
 "cells": [
  {
   "cell_type": "markdown",
   "id": "b2bf50ab-3fb2-49bb-92a5-4a21c14dbb80",
   "metadata": {},
   "source": [
    "# Multiple assignment"
   ]
  },
  {
   "cell_type": "markdown",
   "id": "e094e1c6-6e16-4a98-8623-9796006ee966",
   "metadata": {},
   "source": [
    "### Multiple assignment = allows us to assign multiple variables at the same time in one line of code. "
   ]
  },
  {
   "cell_type": "code",
   "execution_count": 8,
   "id": "1cd5ffb8-bcc3-48c0-9063-46d23b5a7c7e",
   "metadata": {},
   "outputs": [
    {
     "name": "stdout",
     "output_type": "stream",
     "text": [
      "Kamola\n",
      "23\n",
      "True\n"
     ]
    }
   ],
   "source": [
    "name = \"Kamola\"\n",
    "age = 23\n",
    "attractive = True \n",
    "print(name)\n",
    "print(age)\n",
    "print(attractive)"
   ]
  },
  {
   "cell_type": "code",
   "execution_count": 16,
   "id": "72b56ae4-9e80-439d-8cb7-73388c425fc0",
   "metadata": {},
   "outputs": [
    {
     "name": "stdout",
     "output_type": "stream",
     "text": [
      "Lola\n",
      "25\n",
      "False\n"
     ]
    }
   ],
   "source": [
    "name, age, attractive = \"Lola\", 25, False\n",
    "print(name)\n",
    "print(age)\n",
    "print(attractive)"
   ]
  },
  {
   "cell_type": "code",
   "execution_count": 18,
   "id": "95d274ef-8fbf-4993-8d6b-bb3d4ed0cbbd",
   "metadata": {},
   "outputs": [
    {
     "name": "stdout",
     "output_type": "stream",
     "text": [
      "30\n",
      "30\n",
      "30\n",
      "30\n"
     ]
    }
   ],
   "source": [
    "Spongebob = 30\n",
    "Patrick = 30\n",
    "Sandy = 30\n",
    "Squidward = 30 \n",
    "\n",
    "print(Spongebob)\n",
    "print(Patrick)\n",
    "print(Sandy)\n",
    "print(Squidward)"
   ]
  },
  {
   "cell_type": "code",
   "execution_count": 22,
   "id": "98baf8dd-25c8-4664-a4a2-44b369d0b7c7",
   "metadata": {},
   "outputs": [
    {
     "name": "stdout",
     "output_type": "stream",
     "text": [
      "30\n",
      "30\n",
      "30\n",
      "30\n"
     ]
    }
   ],
   "source": [
    "Spongebob = Patric = Sandy = Squidward = 30\n",
    "print(Spongebob)\n",
    "print(Patrick)\n",
    "print(Sandy)\n",
    "print(Squidward)"
   ]
  },
  {
   "cell_type": "markdown",
   "id": "56871c20-ab21-435c-8bd4-8704e968d6d4",
   "metadata": {},
   "source": [
    "# String methods "
   ]
  },
  {
   "cell_type": "code",
   "execution_count": 25,
   "id": "c451a806-7a7e-4184-93ba-43504f8e3b94",
   "metadata": {},
   "outputs": [
    {
     "name": "stdout",
     "output_type": "stream",
     "text": [
      "6\n"
     ]
    }
   ],
   "source": [
    "name = \"Sister\"\n",
    "print(len(name)) # prints and returns how long the length of the string is."
   ]
  },
  {
   "cell_type": "code",
   "execution_count": 33,
   "id": "0d1cb917-2431-4b77-85ea-faf5f6a6ba3b",
   "metadata": {},
   "outputs": [
    {
     "name": "stdout",
     "output_type": "stream",
     "text": [
      "2\n"
     ]
    }
   ],
   "source": [
    "print(name.find(\"s\"))"
   ]
  },
  {
   "cell_type": "code",
   "execution_count": 39,
   "id": "9cb744f5-784e-4e65-b591-7415afde484d",
   "metadata": {},
   "outputs": [
    {
     "name": "stdout",
     "output_type": "stream",
     "text": [
      "Kamola abduvalieva\n"
     ]
    }
   ],
   "source": [
    "name = \"kamola abduvalieva\"\n",
    "print(name.capitalize())"
   ]
  },
  {
   "cell_type": "code",
   "execution_count": 41,
   "id": "571d5b9f-a995-4bd8-970d-82d9a4887ea5",
   "metadata": {},
   "outputs": [
    {
     "name": "stdout",
     "output_type": "stream",
     "text": [
      "KAMOLA ABDUVALIEVA\n"
     ]
    }
   ],
   "source": [
    "print(name.upper())"
   ]
  },
  {
   "cell_type": "code",
   "execution_count": 45,
   "id": "0ffff01b-4f26-4e6a-adbe-c40811b6b1b7",
   "metadata": {},
   "outputs": [
    {
     "name": "stdout",
     "output_type": "stream",
     "text": [
      "kamola abduvalieva\n"
     ]
    }
   ],
   "source": [
    "name = \"KAMOLA ABDUVALIEVA\"\n",
    "print(name.lower())"
   ]
  },
  {
   "cell_type": "code",
   "execution_count": 47,
   "id": "cf1e1c2a-b1de-4b3e-9151-039ece561df8",
   "metadata": {},
   "outputs": [
    {
     "name": "stdout",
     "output_type": "stream",
     "text": [
      "False\n"
     ]
    }
   ],
   "source": [
    "print(name.isdigit())"
   ]
  },
  {
   "cell_type": "code",
   "execution_count": 53,
   "id": "765a67ad-35c4-4c87-9d4d-3755efdea1cc",
   "metadata": {},
   "outputs": [
    {
     "name": "stdout",
     "output_type": "stream",
     "text": [
      "True\n"
     ]
    }
   ],
   "source": [
    "number = \"22256\"\n",
    "print(number.isdigit())"
   ]
  },
  {
   "cell_type": "code",
   "execution_count": 55,
   "id": "346b0566-bc21-4114-a4e3-a292d3d28db0",
   "metadata": {},
   "outputs": [
    {
     "name": "stdout",
     "output_type": "stream",
     "text": [
      "False\n"
     ]
    }
   ],
   "source": [
    "print(name.isalpha())"
   ]
  },
  {
   "cell_type": "code",
   "execution_count": 59,
   "id": "b392e9b1-9978-424a-90c5-b1e9967a0042",
   "metadata": {},
   "outputs": [
    {
     "name": "stdout",
     "output_type": "stream",
     "text": [
      "True\n"
     ]
    }
   ],
   "source": [
    "name = \"LOLA\"\n",
    "print(name.isalpha())"
   ]
  },
  {
   "cell_type": "code",
   "execution_count": 65,
   "id": "392e6c32-7aa1-454d-9e9f-5f843109273c",
   "metadata": {},
   "outputs": [
    {
     "name": "stdout",
     "output_type": "stream",
     "text": [
      "2\n"
     ]
    }
   ],
   "source": [
    "print(name.count(\"L\"))"
   ]
  },
  {
   "cell_type": "code",
   "execution_count": 69,
   "id": "b0f53b06-88df-47e0-a10d-6b775bddfded",
   "metadata": {},
   "outputs": [
    {
     "name": "stdout",
     "output_type": "stream",
     "text": [
      "lOlA\n"
     ]
    }
   ],
   "source": [
    "print(name.replace(\"L\", \"l\"))"
   ]
  },
  {
   "cell_type": "code",
   "execution_count": 71,
   "id": "24e5ad14-253a-411c-a6e2-49e2623966b5",
   "metadata": {},
   "outputs": [
    {
     "name": "stdout",
     "output_type": "stream",
     "text": [
      "LOLALOLALOLA\n"
     ]
    }
   ],
   "source": [
    "print(name * 3)"
   ]
  },
  {
   "cell_type": "code",
   "execution_count": null,
   "id": "40a59eef-72f7-4a15-b5bd-abfa1f1e13d2",
   "metadata": {},
   "outputs": [],
   "source": []
  }
 ],
 "metadata": {
  "kernelspec": {
   "display_name": "Python [conda env:base] *",
   "language": "python",
   "name": "conda-base-py"
  },
  "language_info": {
   "codemirror_mode": {
    "name": "ipython",
    "version": 3
   },
   "file_extension": ".py",
   "mimetype": "text/x-python",
   "name": "python",
   "nbconvert_exporter": "python",
   "pygments_lexer": "ipython3",
   "version": "3.12.7"
  }
 },
 "nbformat": 4,
 "nbformat_minor": 5
}
