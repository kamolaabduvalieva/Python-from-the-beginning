{
 "cells": [
  {
   "cell_type": "markdown",
   "id": "14dd880c-ab16-4f1d-9168-07bc88f37983",
   "metadata": {},
   "source": [
    "# Variables in Python"
   ]
  },
  {
   "cell_type": "markdown",
   "id": "0b687e4e-6a66-47db-b111-a78c3e109252",
   "metadata": {},
   "source": [
    "### Variable = a container for a value. Behaves as the value that it contains."
   ]
  },
  {
   "cell_type": "code",
   "execution_count": 6,
   "id": "ca3cd84f-bd91-4dcb-984f-fc052c965850",
   "metadata": {},
   "outputs": [
    {
     "name": "stdout",
     "output_type": "stream",
     "text": [
      "Kamola\n"
     ]
    }
   ],
   "source": [
    "name = \"Kamola\"\n",
    "print(name)"
   ]
  },
  {
   "cell_type": "code",
   "execution_count": 8,
   "id": "73d8cee4-39ba-46a5-bf05-62e3752361d4",
   "metadata": {},
   "outputs": [
    {
     "name": "stdout",
     "output_type": "stream",
     "text": [
      "Hello Kamola\n"
     ]
    }
   ],
   "source": [
    "name = \"Kamola\"\n",
    "print(\"Hello \" +name)"
   ]
  },
  {
   "cell_type": "markdown",
   "id": "443941b4-bdfa-49f9-94cc-3dab51f4083b",
   "metadata": {},
   "source": [
    "### Checking the data type of a variable [ type() ]"
   ]
  },
  {
   "cell_type": "code",
   "execution_count": 10,
   "id": "d902dd2d-8940-4fdb-8d76-ea2fcd7f3a0d",
   "metadata": {},
   "outputs": [
    {
     "name": "stdout",
     "output_type": "stream",
     "text": [
      "<class 'str'>\n"
     ]
    }
   ],
   "source": [
    "name = \"Kamola\"\n",
    "print(type(name))"
   ]
  },
  {
   "cell_type": "code",
   "execution_count": 18,
   "id": "5f0e4a0b-76d9-4153-bfc2-6a28ff2dbc8a",
   "metadata": {},
   "outputs": [
    {
     "name": "stdout",
     "output_type": "stream",
     "text": [
      "Hello Kamola Abduvaliyeva\n"
     ]
    }
   ],
   "source": [
    "first_name = \"Kamola\"\n",
    "last_name = \"Abduvaliyeva\"\n",
    "full_name = first_name +\" \"+ last_name\n",
    "print(\"Hello \" + full_name)"
   ]
  },
  {
   "cell_type": "markdown",
   "id": "12b666cb-025b-4b45-a7f7-b3028a8ec127",
   "metadata": {},
   "source": [
    "### Integer type of variable"
   ]
  },
  {
   "cell_type": "code",
   "execution_count": 20,
   "id": "1f6e4904-7c9f-47d9-acf3-fcf05968e985",
   "metadata": {},
   "outputs": [
    {
     "name": "stdout",
     "output_type": "stream",
     "text": [
      "24\n",
      "<class 'int'>\n"
     ]
    }
   ],
   "source": [
    "age = 23\n",
    "age = age + 1\n",
    "print(age)\n",
    "print(type(age))"
   ]
  },
  {
   "cell_type": "code",
   "execution_count": 23,
   "id": "d19416cf-0ad6-4957-a87f-477ed6c84b8b",
   "metadata": {},
   "outputs": [
    {
     "name": "stdout",
     "output_type": "stream",
     "text": [
      "<class 'str'>\n"
     ]
    }
   ],
   "source": [
    "age = \"23\"\n",
    "print(type(age))"
   ]
  },
  {
   "cell_type": "markdown",
   "id": "87327518-76c5-4a50-aa73-7eaaca4b3b8f",
   "metadata": {},
   "source": [
    "### A variable of type string cannot be concatenated to a variable of type integer or float."
   ]
  },
  {
   "cell_type": "code",
   "execution_count": 25,
   "id": "07d31c2c-808c-4d19-a512-d085529e9534",
   "metadata": {},
   "outputs": [
    {
     "ename": "TypeError",
     "evalue": "can only concatenate str (not \"int\") to str",
     "output_type": "error",
     "traceback": [
      "\u001b[1;31m---------------------------------------------------------------------------\u001b[0m",
      "\u001b[1;31mTypeError\u001b[0m                                 Traceback (most recent call last)",
      "Cell \u001b[1;32mIn[25], line 2\u001b[0m\n\u001b[0;32m      1\u001b[0m age \u001b[38;5;241m=\u001b[39m \u001b[38;5;124m\"\u001b[39m\u001b[38;5;124m23\u001b[39m\u001b[38;5;124m\"\u001b[39m\n\u001b[1;32m----> 2\u001b[0m age \u001b[38;5;241m+\u001b[39m\u001b[38;5;241m=\u001b[39m \u001b[38;5;241m1\u001b[39m\n\u001b[0;32m      3\u001b[0m \u001b[38;5;28mprint\u001b[39m(\u001b[38;5;28mtype\u001b[39m(age))\n",
      "\u001b[1;31mTypeError\u001b[0m: can only concatenate str (not \"int\") to str"
     ]
    }
   ],
   "source": [
    "age = \"23\"\n",
    "age += 1\n",
    "print(type(age))"
   ]
  },
  {
   "cell_type": "code",
   "execution_count": 30,
   "id": "0dc2d49c-3a16-4f4f-9b42-5724b8fae4c1",
   "metadata": {},
   "outputs": [
    {
     "ename": "TypeError",
     "evalue": "can only concatenate str (not \"int\") to str",
     "output_type": "error",
     "traceback": [
      "\u001b[1;31m---------------------------------------------------------------------------\u001b[0m",
      "\u001b[1;31mTypeError\u001b[0m                                 Traceback (most recent call last)",
      "Cell \u001b[1;32mIn[30], line 3\u001b[0m\n\u001b[0;32m      1\u001b[0m age \u001b[38;5;241m=\u001b[39m \u001b[38;5;241m23\u001b[39m\n\u001b[0;32m      2\u001b[0m age \u001b[38;5;241m+\u001b[39m\u001b[38;5;241m=\u001b[39m \u001b[38;5;241m1\u001b[39m\n\u001b[1;32m----> 3\u001b[0m \u001b[38;5;28mprint\u001b[39m(\u001b[38;5;124m\"\u001b[39m\u001b[38;5;124mYour age is: \u001b[39m\u001b[38;5;124m\"\u001b[39m \u001b[38;5;241m+\u001b[39mage)\n",
      "\u001b[1;31mTypeError\u001b[0m: can only concatenate str (not \"int\") to str"
     ]
    }
   ],
   "source": [
    "age = 23\n",
    "age += 1\n",
    "print(\"Your age is: \" +age)"
   ]
  },
  {
   "cell_type": "code",
   "execution_count": 32,
   "id": "0f4db873-939d-426a-803d-81ad10c90115",
   "metadata": {},
   "outputs": [
    {
     "name": "stdout",
     "output_type": "stream",
     "text": [
      "Your age is: 24\n"
     ]
    }
   ],
   "source": [
    "age = 23\n",
    "age += 1\n",
    "print(\"Your age is: \" + str(age))"
   ]
  },
  {
   "cell_type": "markdown",
   "id": "da8d1d44-010b-4c98-90e8-a2c599f984c3",
   "metadata": {},
   "source": [
    "### Float = floating point number (a decimal number)"
   ]
  },
  {
   "cell_type": "code",
   "execution_count": 35,
   "id": "26ad8583-0b33-4449-bb80-3961c3c6c420",
   "metadata": {},
   "outputs": [
    {
     "name": "stdout",
     "output_type": "stream",
     "text": [
      "250.5\n",
      "<class 'float'>\n"
     ]
    }
   ],
   "source": [
    "height = 250.5\n",
    "print(height)\n",
    "print(type(height))"
   ]
  },
  {
   "cell_type": "code",
   "execution_count": 43,
   "id": "6073321f-bb0e-42c2-8830-9701ab06d210",
   "metadata": {},
   "outputs": [
    {
     "name": "stdout",
     "output_type": "stream",
     "text": [
      "Your height is: 250.5cm\n"
     ]
    }
   ],
   "source": [
    "height = 250.5\n",
    "print(\"Your height is: \"+ str(height) + \"cm\")"
   ]
  },
  {
   "cell_type": "markdown",
   "id": "8aa7378c-3bb5-4b66-83ab-3a57cd852457",
   "metadata": {},
   "source": [
    "### Boolean (True or False)"
   ]
  },
  {
   "cell_type": "code",
   "execution_count": 52,
   "id": "21f4833a-1554-4061-a31f-0f2ce087b62f",
   "metadata": {},
   "outputs": [
    {
     "name": "stdout",
     "output_type": "stream",
     "text": [
      "True\n"
     ]
    }
   ],
   "source": [
    "human = True\n",
    "print(human)"
   ]
  },
  {
   "cell_type": "code",
   "execution_count": 48,
   "id": "f7a05bf1-3738-4cef-9ee4-c15ba32a9376",
   "metadata": {},
   "outputs": [
    {
     "name": "stdout",
     "output_type": "stream",
     "text": [
      "<class 'bool'>\n"
     ]
    }
   ],
   "source": [
    "print(type(human))"
   ]
  },
  {
   "cell_type": "code",
   "execution_count": 54,
   "id": "e59c2ed4-f5bb-415e-8efd-9824c633c535",
   "metadata": {},
   "outputs": [
    {
     "name": "stdout",
     "output_type": "stream",
     "text": [
      "Are you a human: True\n"
     ]
    }
   ],
   "source": [
    "print(\"Are you a human: \" + str(human))"
   ]
  },
  {
   "cell_type": "code",
   "execution_count": null,
   "id": "d40d76a6-696e-4fe3-a4cf-9d686adc529e",
   "metadata": {},
   "outputs": [],
   "source": []
  }
 ],
 "metadata": {
  "kernelspec": {
   "display_name": "Python [conda env:base] *",
   "language": "python",
   "name": "conda-base-py"
  },
  "language_info": {
   "codemirror_mode": {
    "name": "ipython",
    "version": 3
   },
   "file_extension": ".py",
   "mimetype": "text/x-python",
   "name": "python",
   "nbconvert_exporter": "python",
   "pygments_lexer": "ipython3",
   "version": "3.12.7"
  }
 },
 "nbformat": 4,
 "nbformat_minor": 5
}
